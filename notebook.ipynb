{
 "cells": [
  {
   "cell_type": "markdown",
   "metadata": {
    "dc": {
     "key": "3"
    },
    "deletable": false,
    "editable": false,
    "run_control": {
     "frozen": true
    },
    "tags": [
     "context"
    ]
   },
   "source": [
    "## 1. The oldest business in the world\n",
    "<p><img src=\"https://assets.datacamp.com/production/repositories/5851/datasets/7dded924c6dc418d4a828f2f4daba99953c27a5a/400px-Eingang_zum_St._Peter_Stiftskeller.jpg\" alt=\"The entrance to St. Peter Stiftskeller, a restaurant in Saltzburg, Austria. The sign over the entrance shows &quot;803&quot; - the year the business opened.\"></p>\n",
    "<p><em>Image: St. Peter Stiftskeller, founded 803. Credit: <a href=\"https://commons.wikimedia.org/wiki/File:Eingang_zum_St._Peter_Stiftskeller.jpg\">Pakeha</a>.</em></p>\n",
    "<p>An important part of business is planning for the future and ensuring that the company survives changing market conditions. Some businesses do this really well and last for hundreds of years.</p>\n",
    "<p>BusinessFinancing.co.uk <a href=\"https://businessfinancing.co.uk/the-oldest-company-in-almost-every-country\">researched</a> the oldest company that is still in business in (almost) every country and compiled the results into a dataset. In this project, you'll explore that dataset to see what they found.</p>\n",
    "<p>The database contains three tables.</p>\n",
    "<h3 id=\"categories\"><code>categories</code></h3>\n",
    "<table>\n",
    "<thead>\n",
    "<tr>\n",
    "<th style=\"text-align:left;\">column</th>\n",
    "<th>type</th>\n",
    "<th>meaning</th>\n",
    "</tr>\n",
    "</thead>\n",
    "<tbody>\n",
    "<tr>\n",
    "<td style=\"text-align:left;\"><code>category_code</code></td>\n",
    "<td>varchar</td>\n",
    "<td>Code for the category of the business.</td>\n",
    "</tr>\n",
    "<tr>\n",
    "<td style=\"text-align:left;\"><code>category</code></td>\n",
    "<td>varchar</td>\n",
    "<td>Description of the business category.</td>\n",
    "</tr>\n",
    "</tbody>\n",
    "</table>\n",
    "<h3 id=\"countries\"><code>countries</code></h3>\n",
    "<table>\n",
    "<thead>\n",
    "<tr>\n",
    "<th style=\"text-align:left;\">column</th>\n",
    "<th>type</th>\n",
    "<th>meaning</th>\n",
    "</tr>\n",
    "</thead>\n",
    "<tbody>\n",
    "<tr>\n",
    "<td style=\"text-align:left;\"><code>country_code</code></td>\n",
    "<td>varchar</td>\n",
    "<td>ISO 3166-1 3-letter country code.</td>\n",
    "</tr>\n",
    "<tr>\n",
    "<td style=\"text-align:left;\"><code>country</code></td>\n",
    "<td>varchar</td>\n",
    "<td>Name of the country.</td>\n",
    "</tr>\n",
    "<tr>\n",
    "<td style=\"text-align:left;\"><code>continent</code></td>\n",
    "<td>varchar</td>\n",
    "<td>Name of the continent that the country exists in.</td>\n",
    "</tr>\n",
    "</tbody>\n",
    "</table>\n",
    "<h3 id=\"businesses\"><code>businesses</code></h3>\n",
    "<table>\n",
    "<thead>\n",
    "<tr>\n",
    "<th style=\"text-align:left;\">column</th>\n",
    "<th>type</th>\n",
    "<th>meaning</th>\n",
    "</tr>\n",
    "</thead>\n",
    "<tbody>\n",
    "<tr>\n",
    "<td style=\"text-align:left;\"><code>business</code></td>\n",
    "<td>varchar</td>\n",
    "<td>Name of the business.</td>\n",
    "</tr>\n",
    "<tr>\n",
    "<td style=\"text-align:left;\"><code>year_founded</code></td>\n",
    "<td>int</td>\n",
    "<td>Year the business was founded.</td>\n",
    "</tr>\n",
    "<tr>\n",
    "<td style=\"text-align:left;\"><code>category_code</code></td>\n",
    "<td>varchar</td>\n",
    "<td>Code for the category of the business.</td>\n",
    "</tr>\n",
    "<tr>\n",
    "<td style=\"text-align:left;\"><code>country_code</code></td>\n",
    "<td>char</td>\n",
    "<td>ISO 3166-1 3-letter country code.</td>\n",
    "</tr>\n",
    "</tbody>\n",
    "</table>\n",
    "<p>Let's begin by looking at the range of the founding years throughout the world.</p>"
   ]
  },
  {
   "cell_type": "code",
   "execution_count": 55,
   "metadata": {
    "dc": {
     "key": "3"
    },
    "tags": [
     "sample_code"
    ]
   },
   "outputs": [
    {
     "name": "stdout",
     "output_type": "stream",
     "text": [
      "1 rows affected.\n"
     ]
    },
    {
     "data": {
      "text/html": [
       "<table>\n",
       "    <tr>\n",
       "        <th>min</th>\n",
       "        <th>max</th>\n",
       "    </tr>\n",
       "    <tr>\n",
       "        <td>578</td>\n",
       "        <td>1999</td>\n",
       "    </tr>\n",
       "</table>"
      ],
      "text/plain": [
       "[(578, 1999)]"
      ]
     },
     "execution_count": 55,
     "metadata": {},
     "output_type": "execute_result"
    }
   ],
   "source": [
    "%%sql \n",
    "postgresql:///oldestbusinesses\n",
    " \n",
    "-- Select the oldest and newest founding years from the businesses table\n",
    "select min(year_founded),max(year_founded)\n",
    "from businesses;"
   ]
  },
  {
   "cell_type": "markdown",
   "metadata": {
    "dc": {
     "key": "12"
    },
    "deletable": false,
    "editable": false,
    "run_control": {
     "frozen": true
    },
    "tags": [
     "context"
    ]
   },
   "source": [
    "## 2. How many businesses were founded before 1000?\n",
    "<p>Wow! That's a lot of variation between countries. In one country, the oldest business was only founded in 1999. By contrast, the oldest business in the world was founded back in 578. That's pretty incredible that a business has survived for more than a millennium.</p>\n",
    "<p>I wonder how many other businesses there are like that.</p>"
   ]
  },
  {
   "cell_type": "code",
   "execution_count": 57,
   "metadata": {
    "dc": {
     "key": "12"
    },
    "tags": [
     "sample_code"
    ]
   },
   "outputs": [
    {
     "name": "stdout",
     "output_type": "stream",
     "text": [
      " * postgresql:///oldestbusinesses\n",
      "1 rows affected.\n"
     ]
    },
    {
     "data": {
      "text/html": [
       "<table>\n",
       "    <tr>\n",
       "        <th>count</th>\n",
       "    </tr>\n",
       "    <tr>\n",
       "        <td>6</td>\n",
       "    </tr>\n",
       "</table>"
      ],
      "text/plain": [
       "[(6,)]"
      ]
     },
     "execution_count": 57,
     "metadata": {},
     "output_type": "execute_result"
    }
   ],
   "source": [
    "%%sql\n",
    "\n",
    "-- Get the count of rows in businesses where the founding year was before 1000\n",
    "SELECT COUNT(*)\n",
    "    FROM businesses\n",
    "    WHERE year_founded < 1000;"
   ]
  },
  {
   "cell_type": "code",
   "execution_count": null,
   "metadata": {
    "collapsed": true,
    "dc": {
     "key": "12"
    }
   },
   "outputs": [],
   "source": []
  },
  {
   "cell_type": "markdown",
   "metadata": {
    "dc": {
     "key": "19"
    },
    "deletable": false,
    "editable": false,
    "run_control": {
     "frozen": true
    },
    "tags": [
     "context"
    ]
   },
   "source": [
    "## 3. Which businesses were founded before 1000?\n",
    "<p>Having a count is all very well, but I'd like more detail. Which businesses have been around for more than a millennium?</p>"
   ]
  },
  {
   "cell_type": "code",
   "execution_count": 59,
   "metadata": {
    "dc": {
     "key": "19"
    },
    "tags": [
     "sample_code"
    ]
   },
   "outputs": [
    {
     "name": "stdout",
     "output_type": "stream",
     "text": [
      " * postgresql:///oldestbusinesses\n",
      "6 rows affected.\n"
     ]
    },
    {
     "data": {
      "text/html": [
       "<table>\n",
       "    <tr>\n",
       "        <th>business</th>\n",
       "        <th>year_founded</th>\n",
       "        <th>category_code</th>\n",
       "        <th>country_code</th>\n",
       "    </tr>\n",
       "    <tr>\n",
       "        <td>Kongō Gumi</td>\n",
       "        <td>578</td>\n",
       "        <td>CAT6</td>\n",
       "        <td>JPN</td>\n",
       "    </tr>\n",
       "    <tr>\n",
       "        <td>St. Peter Stifts Kulinarium</td>\n",
       "        <td>803</td>\n",
       "        <td>CAT4</td>\n",
       "        <td>AUT</td>\n",
       "    </tr>\n",
       "    <tr>\n",
       "        <td>Staffelter Hof Winery</td>\n",
       "        <td>862</td>\n",
       "        <td>CAT9</td>\n",
       "        <td>DEU</td>\n",
       "    </tr>\n",
       "    <tr>\n",
       "        <td>Monnaie de Paris </td>\n",
       "        <td>864</td>\n",
       "        <td>CAT12</td>\n",
       "        <td>FRA</td>\n",
       "    </tr>\n",
       "    <tr>\n",
       "        <td>The Royal Mint</td>\n",
       "        <td>886</td>\n",
       "        <td>CAT12</td>\n",
       "        <td>GBR</td>\n",
       "    </tr>\n",
       "    <tr>\n",
       "        <td>Sean&#x27;s Bar</td>\n",
       "        <td>900</td>\n",
       "        <td>CAT4</td>\n",
       "        <td>IRL</td>\n",
       "    </tr>\n",
       "</table>"
      ],
      "text/plain": [
       "[('Kongō Gumi', 578, 'CAT6', 'JPN'),\n",
       " ('St. Peter Stifts Kulinarium', 803, 'CAT4', 'AUT'),\n",
       " ('Staffelter\\xa0Hof Winery', 862, 'CAT9', 'DEU'),\n",
       " ('Monnaie de Paris\\xa0', 864, 'CAT12', 'FRA'),\n",
       " ('The Royal Mint', 886, 'CAT12', 'GBR'),\n",
       " (\"Sean's Bar\", 900, 'CAT4', 'IRL')]"
      ]
     },
     "execution_count": 59,
     "metadata": {},
     "output_type": "execute_result"
    }
   ],
   "source": [
    "%%sql\n",
    "\n",
    "-- Select all columns from businesses where the founding year was before 1000\n",
    "-- Arrange the results from oldest to newest\n",
    "SELECT *\n",
    "  FROM businesses\n",
    "  WHERE year_founded < 1000\n",
    "  ORDER BY year_founded;"
   ]
  },
  {
   "cell_type": "markdown",
   "metadata": {
    "dc": {
     "key": "26"
    },
    "deletable": false,
    "editable": false,
    "run_control": {
     "frozen": true
    },
    "tags": [
     "context"
    ]
   },
   "source": [
    "## 4. Exploring the categories\n",
    "<p>Now we know that the oldest, continuously operating company in the world is called Kongō Gumi. But was does that company do? The category codes in the <code>businesses</code> table aren't very helpful: the descriptions of the categories are stored in the <code>categories</code> table.</p>\n",
    "<p>This is a common problem: for data storage, it's better to keep different types of data in different tables, but for analysis, you want all the data in one place. To solve this, you'll have to join the two tables together.</p>"
   ]
  },
  {
   "cell_type": "code",
   "execution_count": 61,
   "metadata": {
    "dc": {
     "key": "26"
    },
    "tags": [
     "sample_code"
    ]
   },
   "outputs": [
    {
     "name": "stdout",
     "output_type": "stream",
     "text": [
      " * postgresql:///oldestbusinesses\n",
      "6 rows affected.\n"
     ]
    },
    {
     "data": {
      "text/html": [
       "<table>\n",
       "    <tr>\n",
       "        <th>business</th>\n",
       "        <th>year_founded</th>\n",
       "        <th>country_code</th>\n",
       "        <th>category</th>\n",
       "    </tr>\n",
       "    <tr>\n",
       "        <td>Kongō Gumi</td>\n",
       "        <td>578</td>\n",
       "        <td>JPN</td>\n",
       "        <td>Construction</td>\n",
       "    </tr>\n",
       "    <tr>\n",
       "        <td>St. Peter Stifts Kulinarium</td>\n",
       "        <td>803</td>\n",
       "        <td>AUT</td>\n",
       "        <td>Cafés, Restaurants &amp; Bars</td>\n",
       "    </tr>\n",
       "    <tr>\n",
       "        <td>Staffelter Hof Winery</td>\n",
       "        <td>862</td>\n",
       "        <td>DEU</td>\n",
       "        <td>Distillers, Vintners, &amp; Breweries</td>\n",
       "    </tr>\n",
       "    <tr>\n",
       "        <td>Monnaie de Paris </td>\n",
       "        <td>864</td>\n",
       "        <td>FRA</td>\n",
       "        <td>Manufacturing &amp; Production</td>\n",
       "    </tr>\n",
       "    <tr>\n",
       "        <td>The Royal Mint</td>\n",
       "        <td>886</td>\n",
       "        <td>GBR</td>\n",
       "        <td>Manufacturing &amp; Production</td>\n",
       "    </tr>\n",
       "    <tr>\n",
       "        <td>Sean&#x27;s Bar</td>\n",
       "        <td>900</td>\n",
       "        <td>IRL</td>\n",
       "        <td>Cafés, Restaurants &amp; Bars</td>\n",
       "    </tr>\n",
       "</table>"
      ],
      "text/plain": [
       "[('Kongō Gumi', 578, 'JPN', 'Construction'),\n",
       " ('St. Peter Stifts Kulinarium', 803, 'AUT', 'Cafés, Restaurants & Bars'),\n",
       " ('Staffelter\\xa0Hof Winery', 862, 'DEU', 'Distillers, Vintners, & Breweries'),\n",
       " ('Monnaie de Paris\\xa0', 864, 'FRA', 'Manufacturing & Production'),\n",
       " ('The Royal Mint', 886, 'GBR', 'Manufacturing & Production'),\n",
       " (\"Sean's Bar\", 900, 'IRL', 'Cafés, Restaurants & Bars')]"
      ]
     },
     "execution_count": 61,
     "metadata": {},
     "output_type": "execute_result"
    }
   ],
   "source": [
    "%%sql\n",
    "\n",
    "-- Select business name, founding year, and country code from businesses; and category from categories\n",
    "-- where the founding year was before 1000, arranged from oldest to newest\n",
    "SELECT bus.business, bus.year_founded, bus.country_code, cat.category\n",
    "    FROM businesses AS bus\n",
    "    INNER JOIN categories AS cat\n",
    "        ON bus.category_code = cat.category_code\n",
    "    WHERE year_founded < 1000\n",
    "    ORDER BY year_founded;"
   ]
  },
  {
   "cell_type": "markdown",
   "metadata": {
    "dc": {
     "key": "33"
    },
    "deletable": false,
    "editable": false,
    "run_control": {
     "frozen": true
    },
    "tags": [
     "context"
    ]
   },
   "source": [
    "## 5. Counting the categories\n",
    "<p>With that extra detail about the oldest businesses, we can see that Kongō Gumi is a construction company. In that list of six businesses, we also see a café, a winery, and a bar. The two companies recorded as \"Manufacturing and Production\" are both mints. That is, they produce currency.</p>\n",
    "<p>I'm curious as to what other industries constitute the oldest companies around the world, and which industries are most common.</p>"
   ]
  },
  {
   "cell_type": "code",
   "execution_count": 63,
   "metadata": {
    "dc": {
     "key": "33"
    },
    "tags": [
     "sample_code"
    ]
   },
   "outputs": [
    {
     "name": "stdout",
     "output_type": "stream",
     "text": [
      " * postgresql:///oldestbusinesses\n",
      "(psycopg2.errors.SyntaxError) syntax error at or near \"..\"\n",
      "LINE 3: ...\n",
      "        ^\n",
      "\n",
      "[SQL: -- Select the category and count of category (as \"n\")\n",
      "-- arranged by descending count, limited to 10 most common categories\n",
      "...]\n",
      "(Background on this error at: http://sqlalche.me/e/13/f405)\n"
     ]
    }
   ],
   "source": [
    "%%sql\n",
    "\n",
    "-- Select the category and count of category (as \"n\")\n",
    "-- arranged by descending count, limited to 10 most common categories\n"
   ]
  },
  {
   "cell_type": "markdown",
   "metadata": {
    "dc": {
     "key": "40"
    },
    "deletable": false,
    "editable": false,
    "run_control": {
     "frozen": true
    },
    "tags": [
     "context"
    ]
   },
   "source": [
    "## 6. Oldest business by continent\n",
    "<p>It looks like \"Banking &amp; Finance\" is the most popular category. Maybe that's where you should aim if you want to start a thousand-year business.</p>\n",
    "<p>One thing we haven't looked at yet is where in the world these really old businesses are. To answer these questions, we'll need to join the <code>businesses</code> table to the <code>countries</code> table. Let's start by asking how old the oldest business is on each continent.</p>"
   ]
  },
  {
   "cell_type": "code",
   "execution_count": null,
   "metadata": {
    "collapsed": true,
    "dc": {
     "key": "40"
    },
    "tags": [
     "sample_code"
    ]
   },
   "outputs": [],
   "source": [
    "%%sql\n",
    "\n",
    "-- Select the oldest founding year (as \"oldest\") from businesses, \n",
    "-- and continent from countries\n",
    "-- for each continent, ordered from oldest to newest \n",
    "..."
   ]
  },
  {
   "cell_type": "markdown",
   "metadata": {
    "dc": {
     "key": "47"
    },
    "deletable": false,
    "editable": false,
    "run_control": {
     "frozen": true
    },
    "tags": [
     "context"
    ]
   },
   "source": [
    "## 7. Joining everything for further analysis\n",
    "<p>Interesting. There's a jump in time from the older businesses in Asia and Europe to the 16th Century oldest businesses in North and South America, then to the 18th and 19th Century oldest businesses in Africa and Oceania. </p>\n",
    "<p>As mentioned earlier, when analyzing data it's often really helpful to have all the tables you want access to joined together into a single set of results that can be analyzed further. Here, that means we need to join all three tables.</p>"
   ]
  },
  {
   "cell_type": "code",
   "execution_count": null,
   "metadata": {
    "collapsed": true,
    "dc": {
     "key": "47"
    },
    "tags": [
     "sample_code"
    ]
   },
   "outputs": [],
   "source": [
    "%%sql\n",
    "\n",
    "-- Select the business, founding year, category, country, and continent\n",
    "..."
   ]
  },
  {
   "cell_type": "markdown",
   "metadata": {
    "dc": {
     "key": "54"
    },
    "deletable": false,
    "editable": false,
    "run_control": {
     "frozen": true
    },
    "tags": [
     "context"
    ]
   },
   "source": [
    "## 8. Counting categories by continent\n",
    "<p>Having <code>businesses</code> joined to <code>categories</code> and <code>countries</code> together means we can ask questions about both these things together. For example, which are the most common categories for the oldest businesses on each continent?</p>"
   ]
  },
  {
   "cell_type": "code",
   "execution_count": null,
   "metadata": {
    "collapsed": true,
    "dc": {
     "key": "54"
    },
    "tags": [
     "sample_code"
    ]
   },
   "outputs": [],
   "source": [
    "%%sql\n",
    "\n",
    "-- Count the number of businesses in each continent and category\n",
    "..."
   ]
  },
  {
   "cell_type": "markdown",
   "metadata": {
    "dc": {
     "key": "61"
    },
    "deletable": false,
    "editable": false,
    "run_control": {
     "frozen": true
    },
    "tags": [
     "context"
    ]
   },
   "source": [
    "## 9. Filtering counts by continent and category\n",
    "<p>Combining continent and business category led to a lot of results. It's difficult to see what is important. To trim this down to a manageable size, let's restrict the results to only continent/category pairs with a high count.</p>"
   ]
  },
  {
   "cell_type": "code",
   "execution_count": null,
   "metadata": {
    "collapsed": true,
    "dc": {
     "key": "61"
    },
    "tags": [
     "sample_code"
    ]
   },
   "outputs": [],
   "source": [
    "%%sql\n",
    "\n",
    "-- Repeat that previous query, filtering for results having a count greater than 5\n",
    "..."
   ]
  }
 ],
 "metadata": {
  "kernelspec": {
   "display_name": "Python 3",
   "language": "python",
   "name": "python3"
  },
  "language_info": {
   "codemirror_mode": {
    "name": "ipython",
    "version": 3
   },
   "file_extension": ".py",
   "mimetype": "text/x-python",
   "name": "python",
   "nbconvert_exporter": "python",
   "pygments_lexer": "ipython3",
   "version": "3.8.8"
  }
 },
 "nbformat": 4,
 "nbformat_minor": 2
}
